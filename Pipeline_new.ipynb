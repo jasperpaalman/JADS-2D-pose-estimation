{
 "cells": [
  {
   "cell_type": "code",
   "execution_count": null,
   "metadata": {
    "collapsed": true,
    "deletable": true,
    "editable": true
   },
   "outputs": [],
   "source": [
    "import math\n",
    "import numpy as np\n",
    "import pandas as pd\n",
    "import matplotlib.pyplot as plt\n",
    "from itertools import chain\n",
    "import methods\n",
    "import pickle\n",
    "import warnings\n",
    "import plotly as py\n",
    "\n",
    "warnings.filterwarnings('ignore')"
   ]
  },
  {
   "cell_type": "code",
   "execution_count": null,
   "metadata": {
    "collapsed": true,
    "deletable": true,
    "editable": true
   },
   "outputs": [],
   "source": [
    "% matplotlib inline"
   ]
  },
  {
   "cell_type": "markdown",
   "metadata": {
    "deletable": true,
    "editable": true
   },
   "source": [
    "## Getting Jaspers raw data"
   ]
  },
  {
   "cell_type": "code",
   "execution_count": null,
   "metadata": {
    "collapsed": false,
    "deletable": true,
    "editable": true
   },
   "outputs": [],
   "source": [
    "clip_name = '20180404_183056.mp4'\n",
    "# image_h, image_w, fps = methods.determine_video_meta_data('C:/Users/jaspe/tf-openpose/clips/{}'.format(clip_name))\n",
    "people_per_file = methods.get_openpose_output('coordinates/{}'.format(clip_name))"
   ]
  },
  {
   "cell_type": "code",
   "execution_count": null,
   "metadata": {
    "collapsed": true,
    "deletable": true,
    "editable": true
   },
   "outputs": [],
   "source": [
    "image_h = 1080\n",
    "image_w = 1920\n",
    "fps = 60"
   ]
  },
  {
   "cell_type": "code",
   "execution_count": null,
   "metadata": {
    "collapsed": true,
    "deletable": true,
    "editable": true
   },
   "outputs": [],
   "source": [
    "clip_stats = methods.get_clip_stats(clip_name)\n",
    "if clip_stats != None:\n",
    "    length, weight, distance = clip_stats"
   ]
  },
  {
   "cell_type": "markdown",
   "metadata": {
    "deletable": true,
    "editable": true
   },
   "source": [
    "## Load prepared data"
   ]
  },
  {
   "cell_type": "code",
   "execution_count": null,
   "metadata": {
    "collapsed": false,
    "deletable": true,
    "editable": true,
    "scrolled": false
   },
   "outputs": [],
   "source": [
    "# plottables_per_file, period_person_division = methods.\\\n",
    "#             get_plottables_per_file_and_period_person_division(people_per_file, fps, connections)\n",
    "\n",
    "period_person_division = methods.get_period_person_division(people_per_file, fps)    \n",
    "#plottables_per_file = methods.get_plottables_per_file(people_per_file, connections)\n",
    "    \n",
    "    \n",
    "person_period_division = methods.get_person_period_division(period_person_division)\n",
    "\n",
    "mean_x_per_person = methods.get_mean_x_per_person(person_period_division)\n",
    "\n",
    "normalized_moved_distance_per_person = methods.normalize_moved_distance_per_person(mean_x_per_person)\n",
    "\n",
    "# Only include identified people that move more than a set movement threshold\n",
    "maximum_normalized_distance = max(normalized_moved_distance_per_person.values())\n",
    "movement_threshold = maximum_normalized_distance / 4\n",
    "moving_people = [key for key, value in normalized_moved_distance_per_person.items() if value > movement_threshold]\n",
    "\n",
    "person_plottables_df = methods.get_person_plottables_df(mean_x_per_person, moving_people)\n",
    "\n",
    "dbscan_subsets = methods.get_dbscan_subsets(maximum_normalized_distance, person_plottables_df)\n",
    "\n",
    "# mean_x_per_moving_person = {key:np.array([[period,x] for period,x in value.items()]) \n",
    "#                             for key,value in mean_x_per_person.items() if key in moving_people}\n",
    "\n",
    "# links = methods.get_links(moving_people, mean_x_per_moving_person)\n",
    "\n",
    "# linked_people = methods.get_linked_people(maximum_normalized_distance, links)\n",
    "\n",
    "# plottable_subsets = dbscan_subsets + linked_people\n",
    "\n",
    "# all_moving_people = set(chain.from_iterable(plottable_subsets))\n",
    "\n",
    "# plottable_people = plottable_subsets[\n",
    "#     np.argmax([sum([len(person_period_division[person]) for person in subset]) for subset in plottable_subsets])]\n",
    "\n",
    "max_dbscan_subset = dbscan_subsets[\n",
    "    np.argmax([sum([len(person_period_division[person]) for person in subset]) for subset in dbscan_subsets])]\n",
    "\n",
    "plottable_people = methods.determine_plottable_people(person_plottables_df, \n",
    "                                                      max_dbscan_subset, \n",
    "                                                      maximum_normalized_distance*4,\n",
    "                                                      maximum_normalized_distance**2)\n",
    "\n",
    "running_fragments, turning_fragments, fragments = \\\n",
    "            methods.get_running_and_turning_fragments(plottable_people, mean_x_per_person, person_plottables_df, moving_people,\n",
    "                                                     fps)\n",
    "    \n",
    "coord_df = methods.get_dataframe_from_coords(methods.prepare_data_for_plotting(period_person_division, \n",
    "                                                                           plottable_people, \n",
    "                                                                           running_fragments))\n",
    "\n",
    "rotation_angle = methods.get_rotation_angle(coord_df)\n",
    "\n",
    "coord_df = methods.process_coord_df(coord_df)\n",
    "\n",
    "feature_df = methods.to_feature_df(coord_df, 1)\n",
    "\n",
    "period_person_division = {period:{person: np.array([methods.rotate((x,y), rotation_angle)+(z,) for x,y,z in coords])\n",
    "                                  for person, coords in period_dictionary.items()}\n",
    "                                  for period, period_dictionary in period_person_division.items()}\n",
    "\n",
    "person_plottables, running_plottables, turning_plottables = \\\n",
    "                methods.get_plottables(period_person_division, plottable_people, running_fragments, turning_fragments)"
   ]
  },
  {
   "cell_type": "markdown",
   "metadata": {
    "deletable": true,
    "editable": true
   },
   "source": [
    "# Testing variation of joints"
   ]
  },
  {
   "cell_type": "code",
   "execution_count": null,
   "metadata": {
    "collapsed": true,
    "deletable": true,
    "editable": true
   },
   "outputs": [],
   "source": [
    "test_df = coord_df[coord_df['Point'] == 'Left Ear']"
   ]
  },
  {
   "cell_type": "code",
   "execution_count": null,
   "metadata": {
    "collapsed": false,
    "deletable": true,
    "editable": true
   },
   "outputs": [],
   "source": [
    "points = list(set(point for fragment in fragments for point in fragment))\n",
    "running_points = list(set(point for fragment in running_fragments for point in fragment))"
   ]
  },
  {
   "cell_type": "code",
   "execution_count": null,
   "metadata": {
    "collapsed": false,
    "deletable": true,
    "editable": true,
    "scrolled": false
   },
   "outputs": [],
   "source": [
    "plt.figure(figsize=(10,6))\n",
    "\n",
    "plt.scatter(x=test_df['Frame'], y=test_df['y'])\n",
    "for point in points:\n",
    "    plt.axvline(point)\n",
    "for point in running_points:\n",
    "    plt.axvline(point, c='r')"
   ]
  },
  {
   "cell_type": "markdown",
   "metadata": {
    "deletable": true,
    "editable": true
   },
   "source": [
    "# Feature df"
   ]
  },
  {
   "cell_type": "code",
   "execution_count": null,
   "metadata": {
    "collapsed": false
   },
   "outputs": [],
   "source": [
    "feature_df"
   ]
  },
  {
   "cell_type": "markdown",
   "metadata": {
    "deletable": true,
    "editable": true
   },
   "source": [
    "# Plotting"
   ]
  },
  {
   "cell_type": "code",
   "execution_count": null,
   "metadata": {
    "collapsed": true,
    "deletable": true,
    "editable": true
   },
   "outputs": [],
   "source": [
    "% matplotlib notebook"
   ]
  },
  {
   "cell_type": "code",
   "execution_count": null,
   "metadata": {
    "collapsed": false,
    "deletable": true,
    "editable": true,
    "scrolled": false
   },
   "outputs": [],
   "source": [
    "methods.plot_person(running_plottables, image_h, image_w, zoom=True, pad=3, sleep=0.05)"
   ]
  },
  {
   "cell_type": "code",
   "execution_count": null,
   "metadata": {
    "collapsed": true,
    "deletable": true,
    "editable": true,
    "scrolled": true
   },
   "outputs": [],
   "source": [
    "# coord_list = methods.prepare_data_for_plotting(period_person_division, plottable_people, running_fragments)\n",
    "# coord_df = methods.get_dataframe_from_coords(coord_list)\n",
    "# feature_df, coord_df = methods.to_feature_df(coord_df)\n",
    "# feature_df = methods.forward_leaning(feature_df, coord_df)\n",
    "# feature_df.head()"
   ]
  }
 ],
 "metadata": {
  "anaconda-cloud": {},
  "kernelspec": {
   "display_name": "Python [default]",
   "language": "python",
   "name": "python3"
  },
  "language_info": {
   "codemirror_mode": {
    "name": "ipython",
    "version": 3
   },
   "file_extension": ".py",
   "mimetype": "text/x-python",
   "name": "python",
   "nbconvert_exporter": "python",
   "pygments_lexer": "ipython3",
   "version": "3.5.2"
  },
  "latex_envs": {
   "LaTeX_envs_menu_present": true,
   "bibliofile": "biblio.bib",
   "cite_by": "apalike",
   "current_citInitial": 1,
   "eqLabelWithNumbers": true,
   "eqNumInitial": 1,
   "hotkeys": {
    "equation": "Ctrl-E",
    "itemize": "Ctrl-I"
   },
   "labels_anchors": false,
   "latex_user_defs": false,
   "report_style_numbering": false,
   "user_envs_cfg": false
  }
 },
 "nbformat": 4,
 "nbformat_minor": 2
}
