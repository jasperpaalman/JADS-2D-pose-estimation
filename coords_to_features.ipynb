{
 "cells": [
  {
   "cell_type": "markdown",
   "metadata": {},
   "source": [
    "niet alle packages zijn nodig, ik heb gewoon geplakt vanuit het huidige notebook"
   ]
  },
  {
   "cell_type": "code",
   "execution_count": null,
   "metadata": {},
   "outputs": [],
   "source": [
    "import json\n",
    "import numpy as np\n",
    "import matplotlib.pyplot as plt\n",
    "import os\n",
    "\n",
    "import cv2 \n",
    "# pip install .whl file from https://www.lfd.uci.edu/~gohlke/pythonlibs/#opencv\n",
    "# pip install numpy --upgrade if numpy.multiarray error\n",
    "\n",
    "import time\n",
    "import math\n",
    "import pandas as pd"
   ]
  },
  {
   "cell_type": "code",
   "execution_count": null,
   "metadata": {},
   "outputs": [],
   "source": [
    "def to_coordlist(input_file):\n",
    "    \"\"\"gets the coordinates from the coordinate file \n",
    "    and turns this into a list with coodinates\"\"\"\n",
    "    people_per_file = []\n",
    "    for path, subdirs, files in os.walk(input_file):\n",
    "        for filename in files:\n",
    "            coord_path = os.path.join(path, filename)\n",
    "            with open(coord_path) as f:\n",
    "                people_per_file.append(json.load(f)['people'])\n",
    "    \n",
    "    plottables_per_file = []\n",
    "    coord_list = []\n",
    "    for file in people_per_file:\n",
    "        plot_lines = []\n",
    "        plot_coords = []\n",
    "        plottables = {}\n",
    "\n",
    "        coords = {}\n",
    "        for i, person in enumerate(file):\n",
    "            coords[i] = np.array([[x,-y,z] for x,y,z in np.reshape(person['pose_keypoints'], (18,3))]) # constraint on confidence\n",
    "\n",
    "        for person in coords.keys():\n",
    "            try:\n",
    "                plot_coords = plot_coords + list(coords[person][~(coords[person]==0).any(axis=1)])\n",
    "            except:\n",
    "                continue\n",
    "\n",
    "            coord_dict = {key:value for key, value in  dict(enumerate(coords[person][:, :2])).items() if 0 not in value}\n",
    "\n",
    "\n",
    "    #thist makes sure to only pick the relevant person. purely manual, not automatically the most interesting one        \n",
    "            if person == 1:\n",
    "                coord_list.append(coord_dict)\n",
    "    return coord_list"
   ]
  },
  {
   "cell_type": "code",
   "execution_count": null,
   "metadata": {},
   "outputs": [],
   "source": [
    "def to_coord_df(coord_list):\n",
    "    \"\"\"gets a list of coordinates and turns this into a dataframe\"\"\"\n",
    "    coord_df = pd.DataFrame(coord_list)\n",
    "\n",
    "    coord_df.columns = ['Nose', 'Neck', 'Right Shoulder', 'Right Elbow', 'Right Hand',\n",
    "                  'Left Shoulder', 'Left Elbow', 'Left Hand',\n",
    "                  'Right Hip', 'Right Knee', 'Right Foot', 'Left Hip', 'Left Knee', 'Left Foot',\n",
    "                  'Right Eye', 'Left Eye', 'Right Ear', 'Left Ear']\n",
    "\n",
    "    #add the frame number\n",
    "    coord_df['Frame'] = coord_df.index\n",
    "\n",
    "    #melt the dataframe to get the locations in one row\n",
    "    coord_df = pd.melt(coord_df, id_vars = 'Frame', var_name = 'Point', value_name = 'Location')\n",
    "\n",
    "    #split up the coordinates and put them into separate columns\n",
    "    coord_df['Split'] = coord_df.Location.apply(lambda x: str(x).split('  '))\n",
    "    coord_df['x'] = coord_df.Location.str.get(0)\n",
    "    coord_df['y'] = coord_df.Location.str.get(1)\n",
    "\n",
    "    #delete irrelevant columns\n",
    "    del coord_df['Split']\n",
    "    del coord_df['Location']\n",
    "\n",
    "    coord_df.to_csv('coordinate_df')\n",
    "\n",
    "    #coord_df = coord_df[coord_df['x'] <= 1780]\n",
    "\n",
    "    return coord_df"
   ]
  },
  {
   "cell_type": "code",
   "execution_count": null,
   "metadata": {},
   "outputs": [],
   "source": [
    "def to_feature_df(coord_df):\n",
    "    \"\"\"gets a dataframe of coordinates and turns this into features. \n",
    "    In this case, the standard deviation of movement both horizontally as well as vertically\"\"\"\n",
    "    coord_df['video'] = 1\n",
    "    \n",
    "    x_df = coord_df.pivot_table(index='video', columns = 'Point', values = 'x', aggfunc = np.std)\n",
    "    y_df = coord_df.pivot_table(index='video', columns = 'Point', values = 'y', aggfunc = np.std)\n",
    "    \n",
    "    x_df.columns = [str(col) + '_x' for col in x_df.columns]\n",
    "    y_df.columns = [str(col) + '_y' for col in y_df.columns]\n",
    "    \n",
    "    x_df['video'] = x_df.index\n",
    "    y_df['video'] = y_df.index\n",
    "    \n",
    "    std_df = pd.merge(x_df, y_df, on='video', how='outer')\n",
    "    \n",
    "    return std_df"
   ]
  },
  {
   "cell_type": "code",
   "execution_count": null,
   "metadata": {},
   "outputs": [],
   "source": [
    "input_file = r'C:\\Users\\20175863\\Documents\\JADS\\DEiA2\\openpose-1.2.1-win64-binaries\\coordinates'\n",
    "\n",
    "coordlist = to_coordlist(input_file)\n",
    "coord_df = to_coord_df(coordlist)\n",
    "feature_df = to_feature_df(coord_df)\n",
    "feature_df"
   ]
  },
  {
   "cell_type": "code",
   "execution_count": null,
   "metadata": {},
   "outputs": [],
   "source": []
  }
 ],
 "metadata": {
  "kernelspec": {
   "display_name": "Python 3",
   "language": "python",
   "name": "python3"
  },
  "language_info": {
   "codemirror_mode": {
    "name": "ipython",
    "version": 3
   },
   "file_extension": ".py",
   "mimetype": "text/x-python",
   "name": "python",
   "nbconvert_exporter": "python",
   "pygments_lexer": "ipython3",
   "version": "3.6.4"
  }
 },
 "nbformat": 4,
 "nbformat_minor": 2
}
