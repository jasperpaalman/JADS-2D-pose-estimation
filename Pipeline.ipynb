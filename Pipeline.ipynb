{
 "cells": [
  {
   "cell_type": "code",
   "execution_count": null,
   "metadata": {
<<<<<<< HEAD
    "collapsed": true
=======
    "collapsed": false,
    "deletable": true,
    "editable": true
>>>>>>> 23564449b34baf72fc546dd99aaf3c8c0c00b82d
   },
   "outputs": [],
   "source": [
    "import numpy as np\n",
    "import pandas as pd\n",
    "import matplotlib.pyplot as plt\n",
    "from itertools import chain\n",
    "import methods\n",
    "import pickle\n",
    "import warnings\n",
    "import plotly as py\n",
    "warnings.filterwarnings('ignore')"
   ]
  },
  {
   "cell_type": "code",
   "execution_count": null,
   "metadata": {
<<<<<<< HEAD
    "collapsed": true
=======
    "collapsed": true,
    "deletable": true,
    "editable": true
>>>>>>> 23564449b34baf72fc546dd99aaf3c8c0c00b82d
   },
   "outputs": [],
   "source": [
    "% matplotlib inline"
   ]
  },
  {
   "cell_type": "markdown",
   "metadata": {
    "deletable": true,
    "editable": true
   },
   "source": [
    "## Getting Jaspers raw data"
   ]
  },
  {
   "cell_type": "code",
   "execution_count": null,
   "metadata": {
<<<<<<< HEAD
    "collapsed": true
=======
    "collapsed": false,
    "deletable": true,
    "editable": true
>>>>>>> 23564449b34baf72fc546dd99aaf3c8c0c00b82d
   },
   "outputs": [],
   "source": [
    "image_h, image_w, fps = methods.determine_video_meta_data('C:/Users/jaspe/tf-openpose/clips/20180312_134123.mp4')\n",
    "people_per_file = methods.get_openpose_output('coordinates/20180312_134123')"
   ]
  },
  {
   "cell_type": "markdown",
   "metadata": {
    "deletable": true,
    "editable": true
   },
   "source": [
    "## Load prepared data"
   ]
  },
  {
   "cell_type": "code",
   "execution_count": null,
   "metadata": {
<<<<<<< HEAD
    "collapsed": true
=======
    "collapsed": true,
    "deletable": true,
    "editable": true
>>>>>>> 23564449b34baf72fc546dd99aaf3c8c0c00b82d
   },
   "outputs": [],
   "source": [
    "# people_per_file = pickle.load(open('people_per_file_clip_20180205_185116.pickle', 'rb'))\n",
    "\n",
    "# # Manually set resolution if its not there\n",
    "# image_h = 1080\n",
    "# image_w = 1920\n",
    "# fps = 30"
   ]
  },
  {
   "cell_type": "code",
   "execution_count": null,
   "metadata": {
<<<<<<< HEAD
    "collapsed": true
   },
   "outputs": [],
   "source": [
    "connections = [\n",
    "\t(1, 2), (1, 5), (2, 3), (3, 4), (5, 6), (6, 7), (1, 8), (8, 9), (9, 10), (1, 11), (11, 12), (12, 13), (1, 0),\n",
    "\t(0, 14), (14, 16),\n",
    "\t(0, 15), (15, 17), (2, 16), (5, 17)\n",
    "    \n",
    "]"
   ]
  },
  {
   "cell_type": "code",
   "execution_count": null,
   "metadata": {},
=======
    "collapsed": false,
    "deletable": true,
    "editable": true
   },
>>>>>>> 23564449b34baf72fc546dd99aaf3c8c0c00b82d
   "outputs": [],
   "source": [
    "plottables_per_file, period_person_division = methods.\\\n",
    "            get_plottables_per_file_and_period_person_division(people_per_file, fps, connections)\n",
    "\n",
    "person_period_division = methods.get_person_period_division(period_person_division)\n",
    "\n",
    "mean_x_per_person = methods.get_mean_x_per_person(person_period_division)\n",
    "\n",
    "normalized_moved_distance_per_person = methods.normalize_moved_distance_per_person(mean_x_per_person)\n",
    "\n",
    "# Only include identified people that move more than a set movement threshold\n",
    "maximum_normalized_distance = max(normalized_moved_distance_per_person.values())\n",
    "movement_threshold = maximum_normalized_distance / 4\n",
    "moving_people = [key for key, value in normalized_moved_distance_per_person.items() if value > movement_threshold]\n",
    "\n",
    "person_plottables_df = methods.get_person_plottables_df(mean_x_per_person, moving_people)\n",
    "\n",
    "dbscan_subsets = methods.get_dbscan_subsets(maximum_normalized_distance, person_plottables_df)\n",
    "\n",
    "# mean_x_per_moving_person = {key:np.array([[period,x] for period,x in value.items()]) \n",
    "#                             for key,value in mean_x_per_person.items() if key in moving_people}\n",
    "\n",
    "# links = methods.get_links(moving_people, mean_x_per_moving_person)\n",
    "\n",
    "# linked_people = methods.get_linked_people(maximum_normalized_distance, links)\n",
    "\n",
    "# plottable_subsets = dbscan_subsets + linked_people\n",
    "\n",
    "# all_moving_people = set(chain.from_iterable(plottable_subsets))\n",
    "\n",
    "# plottable_people = plottable_subsets[\n",
    "#     np.argmax([sum([len(person_period_division[person]) for person in subset]) for subset in plottable_subsets])]\n",
    "\n",
    "max_dbscan_subset = dbscan_subsets[\n",
    "    np.argmax([sum([len(person_period_division[person]) for person in subset]) for subset in dbscan_subsets])]\n",
    "\n",
    "plottable_people = methods.determine_plottable_people(person_plottables_df, \n",
    "                                                      max_dbscan_subset, \n",
    "                                                      maximum_normalized_distance*4)\n",
    "\n",
    "running_fragments, turning_fragments = \\\n",
    "            methods.get_running_and_turning_fragments(plottable_people, mean_x_per_person, person_plottables_df, moving_people)\n",
    "\n",
    "person_plottables = [{person: coords for person, \n",
    "                      coords in period_dictionary.items() if person in plottable_people}\n",
    "                     for period, period_dictionary in period_person_division.items()]\n",
    "\n",
    "running_plottables = [{person: coords for person, coords in period_dictionary.items() if person in plottable_people}\n",
    "                     for period, period_dictionary in period_person_division.items() if\n",
    "                      any(lower <= period <= upper for (lower, upper) in running_fragments)]\n",
    "\n",
    "turning_plottables = [{person: coords for person, coords in period_dictionary.items() if person in plottable_people}\n",
    "                     for period, period_dictionary in period_person_division.items() if\n",
    "                      any(lower <= period <= upper for (lower, upper) in turning_fragments)]\n",
    "\n",
    "person_plottables = list(filter(lambda x: x != {}, person_plottables))\n",
    "running_plottables = list(filter(lambda x: x != {}, running_plottables))\n",
    "turning_plottables = list(filter(lambda x: x != {}, turning_plottables))"
   ]
  },
  {
   "cell_type": "code",
   "execution_count": null,
   "metadata": {
<<<<<<< HEAD
    "collapsed": true
   },
   "outputs": [],
   "source": [
    "# % matplotlib notebook"
=======
    "collapsed": true,
    "deletable": true,
    "editable": true
   },
   "outputs": [],
   "source": [
    "% matplotlib notebook"
   ]
  },
  {
   "cell_type": "code",
   "execution_count": null,
   "metadata": {
    "collapsed": false,
    "deletable": true,
    "editable": true
   },
   "outputs": [],
   "source": [
    "f, ax = plt.subplots(figsize=(14,10))\n",
    "\n",
    "methods.plot_person(person_plottables, f, ax, image_h, image_w, zoom=False, pad=3)"
>>>>>>> 23564449b34baf72fc546dd99aaf3c8c0c00b82d
   ]
  },
  {
   "cell_type": "code",
   "execution_count": null,
   "metadata": {
    "collapsed": true,
<<<<<<< HEAD
=======
    "deletable": true,
    "editable": true
   },
   "outputs": [],
   "source": [
    "% matplotlib inline"
   ]
  },
  {
   "cell_type": "code",
   "execution_count": null,
   "metadata": {
    "collapsed": true,
    "deletable": true,
    "editable": true,
>>>>>>> 23564449b34baf72fc546dd99aaf3c8c0c00b82d
    "scrolled": true
   },
   "outputs": [],
   "source": [
<<<<<<< HEAD
    "# f, ax = plt.subplots(figsize=(14,10))\n",
    "\n",
    "# for t in range(len(person_plottables)):\n",
    "# \tmethods.plot_person(person_plottables[t], f, ax, connections)"
=======
    "coord_list = methods.prepare_data_for_plotting(period_person_division, plottable_people, running_fragments)\n",
    "\n",
    "coord_df = methods.get_dataframe_from_coords(coord_list)\n",
    "\n",
    "pointlist = coord_df.Point.value_counts().index.tolist()"
>>>>>>> 23564449b34baf72fc546dd99aaf3c8c0c00b82d
   ]
  },
  {
   "cell_type": "code",
   "execution_count": null,
   "metadata": {
<<<<<<< HEAD
    "scrolled": true
   },
   "outputs": [],
   "source": [
    "coord_list = methods.prepare_data_for_plotting(period_person_division, plottable_people, running_fragments)\n",
    "coord_df = methods.get_dataframe_from_coords(coord_list)\n",
    "feature_df, coord_df = methods.to_feature_df(coord_df)\n",
    "feature_df = methods.forward_leaning(feature_df, coord_df)\n",
    "feature_df.head()"
   ]
=======
    "collapsed": false,
    "deletable": true,
    "editable": true
   },
   "outputs": [],
   "source": [
    "py.tools.set_credentials_file(username='colinvl', api_key='1OPZLs5vGngi8R4dDulM')\n",
    "\n",
    "fig = methods.plotly_scatterplot(pointlist, coord_df)\n",
    "py.plotly.iplot(fig, filename = \"Open pose runtracker\")"
   ]
  },
  {
   "cell_type": "code",
   "execution_count": null,
   "metadata": {
    "collapsed": false,
    "deletable": true,
    "editable": true
   },
   "outputs": [],
   "source": [
    "methods.to_feature_df(methods.get_dataframe_from_coords(coord_list))"
   ]
>>>>>>> 23564449b34baf72fc546dd99aaf3c8c0c00b82d
  }
 ],
 "metadata": {
  "anaconda-cloud": {},
  "kernelspec": {
   "display_name": "Python [default]",
   "language": "python",
   "name": "python3"
  },
  "language_info": {
   "codemirror_mode": {
    "name": "ipython",
    "version": 3
   },
   "file_extension": ".py",
   "mimetype": "text/x-python",
   "name": "python",
   "nbconvert_exporter": "python",
   "pygments_lexer": "ipython3",
<<<<<<< HEAD
   "version": "3.6.1"
=======
   "version": "3.5.2"
>>>>>>> 23564449b34baf72fc546dd99aaf3c8c0c00b82d
  },
  "latex_envs": {
   "LaTeX_envs_menu_present": true,
   "bibliofile": "biblio.bib",
   "cite_by": "apalike",
   "current_citInitial": 1,
   "eqLabelWithNumbers": true,
   "eqNumInitial": 1,
   "hotkeys": {
    "equation": "Ctrl-E",
    "itemize": "Ctrl-I"
   },
   "labels_anchors": false,
   "latex_user_defs": false,
   "report_style_numbering": false,
   "user_envs_cfg": false
  }
 },
 "nbformat": 4,
 "nbformat_minor": 2
}
