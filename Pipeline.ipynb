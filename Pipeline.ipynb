{
 "cells": [
  {
   "cell_type": "code",
   "execution_count": null,
   "metadata": {},
   "outputs": [],
   "source": [
    "from itertools import chain\n",
    "import matplotlib.pyplot as plt\n",
    "import cv2\n",
    "import methods\n",
    "import pickle\n",
    "import numpy as np\n",
    "import plotly.plotly as py"
   ]
  },
  {
   "cell_type": "markdown",
   "metadata": {},
   "source": [
    "## Getting Jaspers raw data"
   ]
  },
  {
   "cell_type": "code",
   "execution_count": null,
   "metadata": {},
   "outputs": [],
   "source": [
    "cam = cv2.VideoCapture(r'C:\\Users\\jaspe\\tf-openpose\\clips\\20180205_182104.mp4')\n",
    "ret_val, image = cam.read()\n",
    "image_h, image_w = image.shape[:2]  # getting clip resolution using opencv\n",
    "fps = cam.get(cv2.CAP_PROP_FPS)  # getting clip frames per second using opencv\n",
    "\n",
    "people_per_file = methods.get_openpose_output(\n",
    "    r'C:\\Users\\jaspe\\tf-openpose\\demo\\openpose-1.2.1-win64-binaries\\coordinates\\20180205_182104')"
   ]
  },
  {
   "cell_type": "markdown",
   "metadata": {},
   "source": [
    "## Load prepared data"
   ]
  },
  {
   "cell_type": "code",
   "execution_count": null,
   "metadata": {},
   "outputs": [],
   "source": [
    "people_per_file = pickle.load(open('people_per_file_clip_20180205_185116.pickle', 'rb'))\n",
    "\n",
    "# Manually set resolution if its not there\n",
    "image_h = 1080\n",
    "image_w = 1920\n",
    "fps = 30\n",
    "\n",
    "people_per_file[0]"
   ]
  },
  {
   "cell_type": "code",
   "execution_count": null,
   "metadata": {},
   "outputs": [],
   "source": [
    "connections = [\n",
    "\t(1, 2), (1, 5), (2, 3), (3, 4), (5, 6), (6, 7), (1, 8), (8, 9), (9, 10), (1, 11), (11, 12), (12, 13), (1, 0),\n",
    "\t(0, 14), (14, 16),\n",
    "\t(0, 15), (15, 17), (2, 16), (5, 17)\n",
    "]"
   ]
  },
  {
   "cell_type": "code",
   "execution_count": null,
   "metadata": {},
   "outputs": [],
   "source": [
    "# Todo: replace none with sensible stuff\n",
    "normalized_moved_distance_per_person = methods.normalize_moved_distance_per_person(None)\n",
    "\n",
    "# Only include identified people that move more than a set movement threshold\n",
    "maximum_normalized_distance = max(normalized_moved_distance_per_person.values())\n",
    "movement_threshold = maximum_normalized_distance / 4\n",
    "moving_people = [key for key, value in normalized_moved_distance_per_person.items() if value > movement_threshold]\n",
    "\n",
    "plottables_per_file, period_person_division = methods.get_plottables_per_file_and_period_person_division(\n",
    "\tpeople_per_file, fps, connections)\n",
    "\n",
    "mean_x_per_person = methods.get_mean_x_per_person(period_person_division)\n",
    "\n",
    "mean_x_per_moving_person = {key: np.array([[period, x] for period, x in value.items()])\n",
    "                            for key, value in mean_x_per_person.items() if key in moving_people}\n",
    "\n",
    "person_plottables_df = methods.get_person_plottables_df(mean_x_per_person, moving_people)\n",
    "\n",
    "dbscan_subsets = methods.get_dbscan_subsets(maximum_normalized_distance, person_plottables_df)\n",
    "\n",
    "linked_people = methods.get_linked_people(maximum_normalized_distance)\n",
    "\n",
    "plottable_subsets = dbscan_subsets + linked_people\n",
    "\n",
    "all_moving_people = set(chain.from_iterable(plottable_subsets))\n",
    "\n",
    "person_period_division = methods.get_person_period_division(period_person_division)\n",
    "plottable_people = plottable_subsets[\n",
    "\tnp.argmax([sum([len(person_period_division[person]) for person in subset]) for subset in plottable_subsets])]\n",
    "\n",
    "turning_point_index = person_plottables_df[person_plottables_df['Person'].isin(plottable_people)]['X mean'].argmin()\n",
    "\n",
    "turning_point = person_plottables_df.loc[turning_point_index, 'Period']\n",
    "\n",
    "person_plottables = [{person: coords for person, coords in period_dictionary.items() if person in plottable_people}\n",
    "                     for period, period_dictionary in period_person_division.items()]\n",
    "\n",
    "person_plottables = list(filter(lambda x: x != {}, person_plottables))\n",
    "\n",
    "# todo: wtf jasper\n",
    "for each in all_moving_people:\n",
    "\tcomponents = [x for x in plottable_subsets if each in x]\n",
    "\tfor i in components:\n",
    "\t\tplottable_subsets.remove(i)\n",
    "\tplottable_subsets += [list(set(chain.from_iterable(components)))]\n",
    "\n",
    "f, ax = plt.subplots(figsize=(14, 10))\n",
    "xspeed = 4\n",
    "\n",
    "for t in range(len(person_plottables)):\n",
    "\tmethods.plot_person(person_plottables[t], f, ax, connections)\n",
    "\n",
    "coord_list = methods.prepare_data_for_plotting(period_person_division, plottable_people, turning_point)\n",
    "\n",
    "coord_df = methods.get_dataframe_from_coords(coord_list)\n",
    "\n",
    "coord_df.to_csv('coordinate_df')\n",
    "\n",
    "py.tools.set_credentials_file(username='colinvl', api_key='1OPZLs5vGngi8R4dDulM')\n",
    "\n",
    "pointlist = coord_df.Point.value_counts().index.tolist()"
   ]
  }
 ],
 "metadata": {
  "kernelspec": {
   "display_name": "Python 3",
   "language": "python",
   "name": "python3"
  },
  "language_info": {
   "codemirror_mode": {
    "name": "ipython",
    "version": 3
   },
   "file_extension": ".py",
   "mimetype": "text/x-python",
   "name": "python",
   "nbconvert_exporter": "python",
   "pygments_lexer": "ipython3",
   "version": "3.6.4"
  }
 },
 "nbformat": 4,
 "nbformat_minor": 2
}
